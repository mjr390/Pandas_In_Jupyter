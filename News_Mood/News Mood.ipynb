{
 "cells": [
  {
   "cell_type": "code",
   "execution_count": 1,
   "metadata": {},
   "outputs": [],
   "source": [
    "# Import dependencies\n",
    "import pandas as pd\n",
    "import numpy as np\n",
    "import matplotlib.pyplot as plt\n",
    "import tweepy\n",
    "from vaderSentiment.vaderSentiment import SentimentIntensityAnalyzer\n",
    "import json\n",
    "import datetime\n",
    "\n",
    "# Setup Tweepy API Authentication\n",
    "auth = tweepy.OAuthHandler(\"zsiW0IGoOyRCt07JUtZflCSym\", \"bDeg1hSbXiVEiBv70svT5ATC1TqnHiWMOAzA757K4pqR5VkIL7\")\n",
    "auth.set_access_token(\"54252997-7w475b34jXO3ryP2JqTai9rGNqANApH6ol86EvBcr\", \"093PpqbTQzfVleJpOQmFckmfMspjUklOSooUvYkORrXcR\")\n",
    "api = tweepy.API(auth, parser=tweepy.parsers.JSONParser())"
   ]
  },
  {
   "cell_type": "code",
   "execution_count": null,
   "metadata": {},
   "outputs": [],
   "source": [
    "target_users = [\"@BBCWorld\", \"@CBSNews\", \"@CNN\", \"@FoxNews\", \"@nytimes\"]\n",
    "\n",
    "found_data = []\n",
    "\n",
    "compound_list = []\n",
    "positive_list = []\n",
    "negative_list = []\n",
    "neutral_list = []\n",
    "text = []\n",
    "dates = []\n",
    "news_org = []\n",
    "for target in target_users:    \n",
    "    counter = 1\n",
    "    for x in range(1,6):\n",
    "        \n",
    "    \n",
    "        counter += 1"
   ]
  }
 ],
 "metadata": {
  "kernelspec": {
   "display_name": "Python 3",
   "language": "python",
   "name": "python3"
  },
  "language_info": {
   "codemirror_mode": {
    "name": "ipython",
    "version": 3
   },
   "file_extension": ".py",
   "mimetype": "text/x-python",
   "name": "python",
   "nbconvert_exporter": "python",
   "pygments_lexer": "ipython3",
   "version": "3.6.4"
  }
 },
 "nbformat": 4,
 "nbformat_minor": 2
}
