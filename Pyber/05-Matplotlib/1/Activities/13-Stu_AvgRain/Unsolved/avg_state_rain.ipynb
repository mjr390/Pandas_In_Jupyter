{
 "cells": [
  {
   "cell_type": "code",
   "execution_count": 1,
   "metadata": {},
   "outputs": [],
   "source": [
    "%matplotlib notebook"
   ]
  },
  {
   "cell_type": "code",
   "execution_count": 2,
   "metadata": {},
   "outputs": [],
   "source": [
    "# Dependencies\n",
    "import matplotlib.pyplot as plt\n",
    "import numpy as np\n",
    "import pandas as pd"
   ]
  },
  {
   "cell_type": "code",
   "execution_count": 3,
   "metadata": {},
   "outputs": [
    {
     "data": {
      "text/html": [
       "<div>\n",
       "<style scoped>\n",
       "    .dataframe tbody tr th:only-of-type {\n",
       "        vertical-align: middle;\n",
       "    }\n",
       "\n",
       "    .dataframe tbody tr th {\n",
       "        vertical-align: top;\n",
       "    }\n",
       "\n",
       "    .dataframe thead th {\n",
       "        text-align: right;\n",
       "    }\n",
       "</style>\n",
       "<table border=\"1\" class=\"dataframe\">\n",
       "  <thead>\n",
       "    <tr style=\"text-align: right;\">\n",
       "      <th></th>\n",
       "      <th>State</th>\n",
       "      <th>Inches</th>\n",
       "      <th>Milli­metres</th>\n",
       "      <th>Rank</th>\n",
       "    </tr>\n",
       "  </thead>\n",
       "  <tbody>\n",
       "    <tr>\n",
       "      <th>0</th>\n",
       "      <td>Alabama</td>\n",
       "      <td>58.3</td>\n",
       "      <td>1480</td>\n",
       "      <td>4</td>\n",
       "    </tr>\n",
       "    <tr>\n",
       "      <th>1</th>\n",
       "      <td>Alaska</td>\n",
       "      <td>22.5</td>\n",
       "      <td>572</td>\n",
       "      <td>39</td>\n",
       "    </tr>\n",
       "    <tr>\n",
       "      <th>2</th>\n",
       "      <td>Arizona</td>\n",
       "      <td>13.6</td>\n",
       "      <td>345</td>\n",
       "      <td>47</td>\n",
       "    </tr>\n",
       "    <tr>\n",
       "      <th>3</th>\n",
       "      <td>Arkansas</td>\n",
       "      <td>50.6</td>\n",
       "      <td>1284</td>\n",
       "      <td>8</td>\n",
       "    </tr>\n",
       "    <tr>\n",
       "      <th>4</th>\n",
       "      <td>California</td>\n",
       "      <td>22.2</td>\n",
       "      <td>563</td>\n",
       "      <td>40</td>\n",
       "    </tr>\n",
       "  </tbody>\n",
       "</table>\n",
       "</div>"
      ],
      "text/plain": [
       "        State  Inches  Milli­metres  Rank\n",
       "0     Alabama    58.3          1480     4\n",
       "1      Alaska    22.5           572    39\n",
       "2     Arizona    13.6           345    47\n",
       "3    Arkansas    50.6          1284     8\n",
       "4  California    22.2           563    40"
      ]
     },
     "execution_count": 3,
     "metadata": {},
     "output_type": "execute_result"
    }
   ],
   "source": [
    "# Load in csv\n",
    "file = \"../Resources/avg_rain_state.csv\"\n",
    "filereader = pd.read_csv(file)\n",
    "filereader.head()"
   ]
  },
  {
   "cell_type": "code",
   "execution_count": 9,
   "metadata": {},
   "outputs": [
    {
     "ename": "SyntaxError",
     "evalue": "invalid syntax (<ipython-input-9-f2c90d7e05c6>, line 3)",
     "output_type": "error",
     "traceback": [
      "\u001b[1;36m  File \u001b[1;32m\"<ipython-input-9-f2c90d7e05c6>\"\u001b[1;36m, line \u001b[1;32m3\u001b[0m\n\u001b[1;33m    tick_locations = [value+0.4 for va?lue in x_axis]\u001b[0m\n\u001b[1;37m                                      ^\u001b[0m\n\u001b[1;31mSyntaxError\u001b[0m\u001b[1;31m:\u001b[0m invalid syntax\n"
     ]
    }
   ],
   "source": [
    "# Set x axis and tick locations\n",
    "x_axis = np.arange(len(filereader))\n",
    "tick_locations = [value+0.4 for va?lue in x_axis]\n",
    "y_ax = filereader[\"Inches\"]\n",
    "plt.bar(x_axis, y_ax)"
   ]
  },
  {
   "cell_type": "code",
   "execution_count": 23,
   "metadata": {},
   "outputs": [
    {
     "data": {
      "text/plain": [
       "([<matplotlib.axis.XTick at 0x20d77434be0>,\n",
       "  <matplotlib.axis.XTick at 0x20d7726cbe0>,\n",
       "  <matplotlib.axis.XTick at 0x20d74a88b70>,\n",
       "  <matplotlib.axis.XTick at 0x20d756baef0>,\n",
       "  <matplotlib.axis.XTick at 0x20d7703e588>,\n",
       "  <matplotlib.axis.XTick at 0x20d7703ebe0>,\n",
       "  <matplotlib.axis.XTick at 0x20d77047278>,\n",
       "  <matplotlib.axis.XTick at 0x20d770478d0>,\n",
       "  <matplotlib.axis.XTick at 0x20d7727c1d0>,\n",
       "  <matplotlib.axis.XTick at 0x20d7711b048>,\n",
       "  <matplotlib.axis.XTick at 0x20d7711b6a0>,\n",
       "  <matplotlib.axis.XTick at 0x20d7711bcf8>,\n",
       "  <matplotlib.axis.XTick at 0x20d770e4780>,\n",
       "  <matplotlib.axis.XTick at 0x20d77068438>,\n",
       "  <matplotlib.axis.XTick at 0x20d77068a90>,\n",
       "  <matplotlib.axis.XTick at 0x20d77079208>,\n",
       "  <matplotlib.axis.XTick at 0x20d77079898>,\n",
       "  <matplotlib.axis.XTick at 0x20d77079f28>,\n",
       "  <matplotlib.axis.XTick at 0x20d770825f8>,\n",
       "  <matplotlib.axis.XTick at 0x20d77082c88>,\n",
       "  <matplotlib.axis.XTick at 0x20d77094358>,\n",
       "  <matplotlib.axis.XTick at 0x20d770949e8>,\n",
       "  <matplotlib.axis.XTick at 0x20d78255048>,\n",
       "  <matplotlib.axis.XTick at 0x20d782556a0>,\n",
       "  <matplotlib.axis.XTick at 0x20d78255cf8>,\n",
       "  <matplotlib.axis.XTick at 0x20d7825f390>,\n",
       "  <matplotlib.axis.XTick at 0x20d7825fa20>,\n",
       "  <matplotlib.axis.XTick at 0x20d782690f0>,\n",
       "  <matplotlib.axis.XTick at 0x20d78269780>,\n",
       "  <matplotlib.axis.XTick at 0x20d78269e10>,\n",
       "  <matplotlib.axis.XTick at 0x20d7826e4e0>,\n",
       "  <matplotlib.axis.XTick at 0x20d7826eb70>,\n",
       "  <matplotlib.axis.XTick at 0x20d7827a240>,\n",
       "  <matplotlib.axis.XTick at 0x20d7827a8d0>,\n",
       "  <matplotlib.axis.XTick at 0x20d7827af60>,\n",
       "  <matplotlib.axis.XTick at 0x20d78288630>,\n",
       "  <matplotlib.axis.XTick at 0x20d78288cc0>,\n",
       "  <matplotlib.axis.XTick at 0x20d77e50390>,\n",
       "  <matplotlib.axis.XTick at 0x20d77e50a20>,\n",
       "  <matplotlib.axis.XTick at 0x20d77e5e0f0>,\n",
       "  <matplotlib.axis.XTick at 0x20d77434ba8>,\n",
       "  <matplotlib.axis.XTick at 0x20d76ddbc50>,\n",
       "  <matplotlib.axis.XTick at 0x20d77e5e8d0>,\n",
       "  <matplotlib.axis.XTick at 0x20d77e5ef60>,\n",
       "  <matplotlib.axis.XTick at 0x20d77e63630>,\n",
       "  <matplotlib.axis.XTick at 0x20d77e63cc0>,\n",
       "  <matplotlib.axis.XTick at 0x20d77e6f390>,\n",
       "  <matplotlib.axis.XTick at 0x20d77e6fac8>,\n",
       "  <matplotlib.axis.XTick at 0x20d77e78198>,\n",
       "  <matplotlib.axis.XTick at 0x20d77e78828>],\n",
       " <a list of 50 Text xticklabel objects>)"
      ]
     },
     "execution_count": 23,
     "metadata": {},
     "output_type": "execute_result"
    }
   ],
   "source": [
    "# Create a list indicating where to write x labels and set figure size to adjust for space\n"
   ]
  },
  {
   "cell_type": "code",
   "execution_count": 25,
   "metadata": {},
   "outputs": [
    {
     "data": {
      "text/plain": [
       "(0, 73.7)"
      ]
     },
     "execution_count": 25,
     "metadata": {},
     "output_type": "execute_result"
    }
   ],
   "source": [
    "# Set x and y limits\n"
   ]
  },
  {
   "cell_type": "code",
   "execution_count": null,
   "metadata": {},
   "outputs": [],
   "source": [
    "# Set a Title and labels\n"
   ]
  },
  {
   "cell_type": "code",
   "execution_count": null,
   "metadata": {},
   "outputs": [],
   "source": [
    "# Save our graph and show the grap\n"
   ]
  },
  {
   "cell_type": "code",
   "execution_count": null,
   "metadata": {},
   "outputs": [],
   "source": []
  }
 ],
 "metadata": {
  "kernelspec": {
   "display_name": "Python 3",
   "language": "python",
   "name": "python3"
  },
  "language_info": {
   "codemirror_mode": {
    "name": "ipython",
    "version": 3
   },
   "file_extension": ".py",
   "mimetype": "text/x-python",
   "name": "python",
   "nbconvert_exporter": "python",
   "pygments_lexer": "ipython3",
   "version": "3.6.5"
  }
 },
 "nbformat": 4,
 "nbformat_minor": 2
}
